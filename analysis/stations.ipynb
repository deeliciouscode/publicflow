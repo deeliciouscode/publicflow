{
 "cells": [
  {
   "cell_type": "code",
   "execution_count": 160,
   "metadata": {},
   "outputs": [],
   "source": [
    "import pandas as pd"
   ]
  },
  {
   "cell_type": "code",
   "execution_count": 161,
   "metadata": {},
   "outputs": [],
   "source": [
    "stations = pd.read_csv(\"../data/stations_utf8.csv\", delimiter=\";\")"
   ]
  },
  {
   "cell_type": "code",
   "execution_count": 162,
   "metadata": {},
   "outputs": [
    {
     "data": {
      "text/html": [
       "<div>\n",
       "<style scoped>\n",
       "    .dataframe tbody tr th:only-of-type {\n",
       "        vertical-align: middle;\n",
       "    }\n",
       "\n",
       "    .dataframe tbody tr th {\n",
       "        vertical-align: top;\n",
       "    }\n",
       "\n",
       "    .dataframe thead th {\n",
       "        text-align: right;\n",
       "    }\n",
       "</style>\n",
       "<table border=\"1\" class=\"dataframe\">\n",
       "  <thead>\n",
       "    <tr style=\"text-align: right;\">\n",
       "      <th></th>\n",
       "      <th>HstNummer</th>\n",
       "      <th>Name mit Ort</th>\n",
       "      <th>Name ohne Ort</th>\n",
       "      <th>Ort</th>\n",
       "      <th>GKZ</th>\n",
       "      <th>Globale ID</th>\n",
       "      <th>MVTT X</th>\n",
       "      <th>MVTT Y</th>\n",
       "      <th>WGS84 X</th>\n",
       "      <th>WGS84 Y</th>\n",
       "    </tr>\n",
       "  </thead>\n",
       "  <tbody>\n",
       "    <tr>\n",
       "      <th>0</th>\n",
       "      <td>1</td>\n",
       "      <td>Karlsplatz (Stachus)</td>\n",
       "      <td>Karlsplatz (Stachus)</td>\n",
       "      <td>München</td>\n",
       "      <td>9162000</td>\n",
       "      <td>de:09162:1</td>\n",
       "      <td>4467762.0</td>\n",
       "      <td>826427.0</td>\n",
       "      <td>48,1393653703985</td>\n",
       "      <td>11,5653864723266</td>\n",
       "    </tr>\n",
       "    <tr>\n",
       "      <th>1</th>\n",
       "      <td>2</td>\n",
       "      <td>Marienplatz</td>\n",
       "      <td>Marienplatz</td>\n",
       "      <td>München</td>\n",
       "      <td>9162000</td>\n",
       "      <td>de:09162:2</td>\n",
       "      <td>4468673.0</td>\n",
       "      <td>826758.0</td>\n",
       "      <td>48,1364342160178</td>\n",
       "      <td>11,5776511503947</td>\n",
       "    </tr>\n",
       "    <tr>\n",
       "      <th>2</th>\n",
       "      <td>3</td>\n",
       "      <td>Isartor</td>\n",
       "      <td>Isartor</td>\n",
       "      <td>München</td>\n",
       "      <td>9162000</td>\n",
       "      <td>de:09162:3</td>\n",
       "      <td>4469056.0</td>\n",
       "      <td>827043.0</td>\n",
       "      <td>48,1338899412007</td>\n",
       "      <td>11,5828176253145</td>\n",
       "    </tr>\n",
       "    <tr>\n",
       "      <th>3</th>\n",
       "      <td>4</td>\n",
       "      <td>Rosenheimer Platz</td>\n",
       "      <td>Rosenheimer Platz</td>\n",
       "      <td>München</td>\n",
       "      <td>9162000</td>\n",
       "      <td>de:09162:4</td>\n",
       "      <td>4469877.0</td>\n",
       "      <td>827637.0</td>\n",
       "      <td>48,1285874606085</td>\n",
       "      <td>11,5938895812341</td>\n",
       "    </tr>\n",
       "    <tr>\n",
       "      <th>4</th>\n",
       "      <td>5</td>\n",
       "      <td>Ostbahnhof</td>\n",
       "      <td>Ostbahnhof</td>\n",
       "      <td>München</td>\n",
       "      <td>9162000</td>\n",
       "      <td>de:09162:5</td>\n",
       "      <td>4470634.0</td>\n",
       "      <td>827691.0</td>\n",
       "      <td>48,1281372572089</td>\n",
       "      <td>11,604062351127</td>\n",
       "    </tr>\n",
       "  </tbody>\n",
       "</table>\n",
       "</div>"
      ],
      "text/plain": [
       "   HstNummer          Name mit Ort         Name ohne Ort      Ort      GKZ  \\\n",
       "0          1  Karlsplatz (Stachus)  Karlsplatz (Stachus)  München  9162000   \n",
       "1          2           Marienplatz           Marienplatz  München  9162000   \n",
       "2          3               Isartor               Isartor  München  9162000   \n",
       "3          4     Rosenheimer Platz     Rosenheimer Platz  München  9162000   \n",
       "4          5            Ostbahnhof            Ostbahnhof  München  9162000   \n",
       "\n",
       "   Globale ID     MVTT X    MVTT Y           WGS84 X           WGS84 Y  \n",
       "0  de:09162:1  4467762.0  826427.0  48,1393653703985  11,5653864723266  \n",
       "1  de:09162:2  4468673.0  826758.0  48,1364342160178  11,5776511503947  \n",
       "2  de:09162:3  4469056.0  827043.0  48,1338899412007  11,5828176253145  \n",
       "3  de:09162:4  4469877.0  827637.0  48,1285874606085  11,5938895812341  \n",
       "4  de:09162:5  4470634.0  827691.0  48,1281372572089   11,604062351127  "
      ]
     },
     "execution_count": 162,
     "metadata": {},
     "output_type": "execute_result"
    }
   ],
   "source": [
    "stations.head()"
   ]
  },
  {
   "cell_type": "code",
   "execution_count": 163,
   "metadata": {},
   "outputs": [],
   "source": [
    "# we don't need most columns\n",
    "stations = stations.drop([\"Name mit Ort\", \"GKZ\", \"Globale ID\", \"MVTT X\", \"MVTT Y\"], axis=1)"
   ]
  },
  {
   "cell_type": "code",
   "execution_count": 164,
   "metadata": {},
   "outputs": [],
   "source": [
    "# drop all where we have either no x or y coordinate (or both)\n",
    "stations = stations[stations['WGS84 X'].notna()]\n",
    "stations = stations[stations['WGS84 Y'].notna()]\n",
    "stations = stations[stations['Ort'].isin([\"München\"])]\n"
   ]
  },
  {
   "cell_type": "code",
   "execution_count": 165,
   "metadata": {},
   "outputs": [
    {
     "data": {
      "text/html": [
       "<div>\n",
       "<style scoped>\n",
       "    .dataframe tbody tr th:only-of-type {\n",
       "        vertical-align: middle;\n",
       "    }\n",
       "\n",
       "    .dataframe tbody tr th {\n",
       "        vertical-align: top;\n",
       "    }\n",
       "\n",
       "    .dataframe thead th {\n",
       "        text-align: right;\n",
       "    }\n",
       "</style>\n",
       "<table border=\"1\" class=\"dataframe\">\n",
       "  <thead>\n",
       "    <tr style=\"text-align: right;\">\n",
       "      <th></th>\n",
       "      <th>HstNummer</th>\n",
       "      <th>Name ohne Ort</th>\n",
       "      <th>Ort</th>\n",
       "      <th>WGS84 X</th>\n",
       "      <th>WGS84 Y</th>\n",
       "    </tr>\n",
       "  </thead>\n",
       "  <tbody>\n",
       "    <tr>\n",
       "      <th>0</th>\n",
       "      <td>1</td>\n",
       "      <td>Karlsplatz (Stachus)</td>\n",
       "      <td>München</td>\n",
       "      <td>48,1393653703985</td>\n",
       "      <td>11,5653864723266</td>\n",
       "    </tr>\n",
       "    <tr>\n",
       "      <th>1</th>\n",
       "      <td>2</td>\n",
       "      <td>Marienplatz</td>\n",
       "      <td>München</td>\n",
       "      <td>48,1364342160178</td>\n",
       "      <td>11,5776511503947</td>\n",
       "    </tr>\n",
       "    <tr>\n",
       "      <th>2</th>\n",
       "      <td>3</td>\n",
       "      <td>Isartor</td>\n",
       "      <td>München</td>\n",
       "      <td>48,1338899412007</td>\n",
       "      <td>11,5828176253145</td>\n",
       "    </tr>\n",
       "    <tr>\n",
       "      <th>3</th>\n",
       "      <td>4</td>\n",
       "      <td>Rosenheimer Platz</td>\n",
       "      <td>München</td>\n",
       "      <td>48,1285874606085</td>\n",
       "      <td>11,5938895812341</td>\n",
       "    </tr>\n",
       "    <tr>\n",
       "      <th>4</th>\n",
       "      <td>5</td>\n",
       "      <td>Ostbahnhof</td>\n",
       "      <td>München</td>\n",
       "      <td>48,1281372572089</td>\n",
       "      <td>11,604062351127</td>\n",
       "    </tr>\n",
       "  </tbody>\n",
       "</table>\n",
       "</div>"
      ],
      "text/plain": [
       "   HstNummer         Name ohne Ort      Ort           WGS84 X  \\\n",
       "0          1  Karlsplatz (Stachus)  München  48,1393653703985   \n",
       "1          2           Marienplatz  München  48,1364342160178   \n",
       "2          3               Isartor  München  48,1338899412007   \n",
       "3          4     Rosenheimer Platz  München  48,1285874606085   \n",
       "4          5            Ostbahnhof  München  48,1281372572089   \n",
       "\n",
       "            WGS84 Y  \n",
       "0  11,5653864723266  \n",
       "1  11,5776511503947  \n",
       "2  11,5828176253145  \n",
       "3  11,5938895812341  \n",
       "4   11,604062351127  "
      ]
     },
     "execution_count": 165,
     "metadata": {},
     "output_type": "execute_result"
    }
   ],
   "source": [
    "stations.head()"
   ]
  },
  {
   "cell_type": "code",
   "execution_count": 166,
   "metadata": {},
   "outputs": [],
   "source": [
    "stations['WGS84 X'] = stations['WGS84 X'].apply(lambda x: round(float(x.replace(\",\", \".\")), 4))\n",
    "stations['WGS84 Y'] = stations['WGS84 Y'].apply(lambda x: round(float(x.replace(\",\", \".\")), 4))"
   ]
  },
  {
   "cell_type": "code",
   "execution_count": 167,
   "metadata": {},
   "outputs": [
    {
     "data": {
      "text/html": [
       "<div>\n",
       "<style scoped>\n",
       "    .dataframe tbody tr th:only-of-type {\n",
       "        vertical-align: middle;\n",
       "    }\n",
       "\n",
       "    .dataframe tbody tr th {\n",
       "        vertical-align: top;\n",
       "    }\n",
       "\n",
       "    .dataframe thead th {\n",
       "        text-align: right;\n",
       "    }\n",
       "</style>\n",
       "<table border=\"1\" class=\"dataframe\">\n",
       "  <thead>\n",
       "    <tr style=\"text-align: right;\">\n",
       "      <th></th>\n",
       "      <th>HstNummer</th>\n",
       "      <th>Name ohne Ort</th>\n",
       "      <th>Ort</th>\n",
       "      <th>WGS84 X</th>\n",
       "      <th>WGS84 Y</th>\n",
       "    </tr>\n",
       "  </thead>\n",
       "  <tbody>\n",
       "    <tr>\n",
       "      <th>0</th>\n",
       "      <td>1</td>\n",
       "      <td>Karlsplatz (Stachus)</td>\n",
       "      <td>München</td>\n",
       "      <td>48.1394</td>\n",
       "      <td>11.5654</td>\n",
       "    </tr>\n",
       "    <tr>\n",
       "      <th>1</th>\n",
       "      <td>2</td>\n",
       "      <td>Marienplatz</td>\n",
       "      <td>München</td>\n",
       "      <td>48.1364</td>\n",
       "      <td>11.5777</td>\n",
       "    </tr>\n",
       "    <tr>\n",
       "      <th>2</th>\n",
       "      <td>3</td>\n",
       "      <td>Isartor</td>\n",
       "      <td>München</td>\n",
       "      <td>48.1339</td>\n",
       "      <td>11.5828</td>\n",
       "    </tr>\n",
       "    <tr>\n",
       "      <th>3</th>\n",
       "      <td>4</td>\n",
       "      <td>Rosenheimer Platz</td>\n",
       "      <td>München</td>\n",
       "      <td>48.1286</td>\n",
       "      <td>11.5939</td>\n",
       "    </tr>\n",
       "    <tr>\n",
       "      <th>4</th>\n",
       "      <td>5</td>\n",
       "      <td>Ostbahnhof</td>\n",
       "      <td>München</td>\n",
       "      <td>48.1281</td>\n",
       "      <td>11.6041</td>\n",
       "    </tr>\n",
       "  </tbody>\n",
       "</table>\n",
       "</div>"
      ],
      "text/plain": [
       "   HstNummer         Name ohne Ort      Ort  WGS84 X  WGS84 Y\n",
       "0          1  Karlsplatz (Stachus)  München  48.1394  11.5654\n",
       "1          2           Marienplatz  München  48.1364  11.5777\n",
       "2          3               Isartor  München  48.1339  11.5828\n",
       "3          4     Rosenheimer Platz  München  48.1286  11.5939\n",
       "4          5            Ostbahnhof  München  48.1281  11.6041"
      ]
     },
     "execution_count": 167,
     "metadata": {},
     "output_type": "execute_result"
    }
   ],
   "source": [
    "stations.head()"
   ]
  },
  {
   "cell_type": "code",
   "execution_count": 168,
   "metadata": {},
   "outputs": [],
   "source": [
    "stations['Name ohne Ort'] = stations['Name ohne Ort'].apply(lambda x: str(x).replace(\" \", \"_\"))\n",
    "stations['Ort'] = stations['Ort'].apply(lambda x: str(x).replace(\" \", \"_\"))\n"
   ]
  },
  {
   "cell_type": "code",
   "execution_count": 169,
   "metadata": {},
   "outputs": [],
   "source": [
    "stations = stations.rename(columns={\"Name ohne Ort\": \"Name\", \"WGS84 X\": \"Lon\", \"WGS84 Y\": \"Lat\"})"
   ]
  },
  {
   "cell_type": "code",
   "execution_count": 170,
   "metadata": {},
   "outputs": [],
   "source": [
    "stations.to_csv(\"../data/stations_utf8_cleansed.csv\", index=False)"
   ]
  },
  {
   "cell_type": "code",
   "execution_count": 172,
   "metadata": {},
   "outputs": [],
   "source": [
    "import yaml"
   ]
  },
  {
   "cell_type": "code",
   "execution_count": 178,
   "metadata": {},
   "outputs": [],
   "source": [
    "text = yaml.dump(stations.to_dict(orient='records'), encoding=\"utf-8\")\n",
    "with open(\"../data/stations_utf8_cleansed.yaml\", \"wb\") as file:\n",
    "    file.write(text)"
   ]
  },
  {
   "cell_type": "code",
   "execution_count": null,
   "metadata": {},
   "outputs": [],
   "source": []
  }
 ],
 "metadata": {
  "kernelspec": {
   "display_name": "Python 3.9.13 ('venv': venv)",
   "language": "python",
   "name": "python3"
  },
  "language_info": {
   "codemirror_mode": {
    "name": "ipython",
    "version": 3
   },
   "file_extension": ".py",
   "mimetype": "text/x-python",
   "name": "python",
   "nbconvert_exporter": "python",
   "pygments_lexer": "ipython3",
   "version": "3.9.13"
  },
  "orig_nbformat": 4,
  "vscode": {
   "interpreter": {
    "hash": "6c2b0d42ea6aef6613cc032d5f50f02e328fee252794c9f1950335c13431c9ac"
   }
  }
 },
 "nbformat": 4,
 "nbformat_minor": 2
}
