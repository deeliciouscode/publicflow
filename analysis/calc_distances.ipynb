{
 "cells": [
  {
   "cell_type": "code",
   "execution_count": 3,
   "metadata": {},
   "outputs": [],
   "source": [
    "line_stations = {\n",
    "  's1': ([11,12,13,14,5,15,16,17,18,19], False),\n",
    "  's2': ([11,12,13,14,5,15,16,17,53,52,51], False),\n",
    "  'u1': ([1, 2, 3, 4, 5, 6, 7, 8, 9, 10], False),\n",
    "  'u2': ([21,22,23,4,5,24,25,26,27,28], False),\n",
    "  'u3': ([21,22,31,32,16,6,33,34,35,27,28], False),\n",
    "  'u4': ([41,42,43,44,32,45,5,24,25,26,27,28], False),\n",
    "  'u5': ([61,62,23,63,45,15,6,33,64,65,66], False),\n",
    "  't11': ([71,6,16,32,31,22,23,4,14,24], True),\n",
    "  't12': ([81,21,62,3,13,25,34,33,8,18,53,43], True)\n",
    "}"
   ]
  },
  {
   "cell_type": "code",
   "execution_count": 9,
   "metadata": {},
   "outputs": [],
   "source": [
    "station_coordinates = {\n",
    "    11: (0.5,5.0),\n",
    "    12: (1.5,5.0),\n",
    "    13: (3.0,5.0),\n",
    "    14: (4.0,5.0),\n",
    "    15: (5.8,5.0),\n",
    "    16: (6.5,5.0),\n",
    "    17: (7.5,5.0),\n",
    "    18: (9.0,5.0),\n",
    "    19: (11.0,5.0),\n",
    "    53: (8.5,3.5),\n",
    "    52: (10.0,3.0),\n",
    "    51: (11.0,3.0),\n",
    "    1: (1.0,1.0),\n",
    "    2: (2.0,2.0),\n",
    "    3: (3.0,3.0),\n",
    "    4: (4.3,3.8),\n",
    "    5: (5.0,5.0),\n",
    "    6: (6.0,6.0),\n",
    "    7: (6.5,6.5),\n",
    "    8: (8.0,8.0),\n",
    "    9: (9.5,9.0),\n",
    "    10: (11.0,9.5),\n",
    "    21: (5.5,0.5),\n",
    "    22: (5.5,1.5),\n",
    "    23: (4.5,2.5),\n",
    "    24: (4.5,6.0),\n",
    "    25: (3.5,7.0),\n",
    "    26: (2.5,8.0),\n",
    "    27: (1.5,9.0),\n",
    "    28: (0.5,9.5),\n",
    "    31: (6.0,2.5),\n",
    "    32: (6.5,3.5),\n",
    "    33: (6.0,8.0),\n",
    "    34: (4.5,8.5),\n",
    "    35: (3.5,8.5),\n",
    "    41: (10.0,0.5),\n",
    "    42: (9.0,1.5),\n",
    "    43: (8.5,2.5),\n",
    "    44: (7.5,3.0),\n",
    "    45: (5.5,4.0),\n",
    "    61: (3.0,0.5),\n",
    "    62: (3.5,1.5),\n",
    "    63: (5.1,3.2),\n",
    "    64: (7.0,9.5),\n",
    "    65: (8.0,10.0),\n",
    "    66: (9.5,10.5),\n",
    "    71: (5.3,6.2),\n",
    "    81: (7.5,1.0),\n",
    "}"
   ]
  },
  {
   "cell_type": "code",
   "execution_count": 19,
   "metadata": {},
   "outputs": [],
   "source": [
    "import math\n",
    "\n",
    "\n",
    "def calc_dist(fst, snd):\n",
    "    (lat_fst, lon_fst) = station_coordinates.get(fst)\n",
    "    (lat_snd, lon_snd) = station_coordinates.get(snd)\n",
    "\n",
    "    d_lat = lat_fst - lat_snd\n",
    "    d_lon = lon_fst - lon_snd\n",
    "\n",
    "    dist = math.sqrt(d_lat ** 2 + d_lon ** 2)\n",
    "\n",
    "    return dist * 1000 * 1.3"
   ]
  },
  {
   "cell_type": "code",
   "execution_count": 20,
   "metadata": {},
   "outputs": [
    {
     "data": {
      "text/plain": [
       "7340.108991016415"
      ]
     },
     "execution_count": 20,
     "metadata": {},
     "output_type": "execute_result"
    }
   ],
   "source": [
    "calc_dist(71,81)"
   ]
  },
  {
   "cell_type": "code",
   "execution_count": 22,
   "metadata": {},
   "outputs": [
    {
     "name": "stdout",
     "output_type": "stream",
     "text": [
      "s1 [1300, 1950, 1300, 1300, 1040, 910, 1300, 1950, 2600]\n",
      "s2 [1300, 1950, 1300, 1300, 1040, 910, 1300, 2344, 2055, 1300]\n",
      "u1 [1838, 1838, 1984, 1806, 1838, 919, 2758, 2344, 2055]\n",
      "u2 [1300, 1838, 1710, 1806, 1453, 1838, 1838, 1838, 1453]\n",
      "u3 [1300, 1453, 1453, 1950, 1453, 2600, 2055, 1300, 2680, 1453]\n",
      "u4 [1838, 1453, 1453, 1453, 1453, 1453, 1453, 1838, 1838, 1838, 1453]\n",
      "u5 [1453, 1838, 1199, 1163, 1357, 1326, 2600, 2344, 1453, 2055]\n",
      "t11 [946, 1453, 1950, 1453, 1453, 1838, 1710, 1608, 1453, 1072]\n",
      "t12 [2680, 2907, 2055, 2600, 2680, 2344, 2055, 2600, 4111, 2055, 1300, 2344]\n"
     ]
    }
   ],
   "source": [
    "for (key, (stations, circular)) in line_stations.items():\n",
    "    distances = []\n",
    "    for i in range(len(stations) - 1):\n",
    "        dist = calc_dist(stations[i], stations[i+1])\n",
    "        distances.append(round(dist))\n",
    "\n",
    "    if circular:\n",
    "        dist = calc_dist(stations[len(stations)-1], stations[0])\n",
    "        distances.append(round(dist))\n",
    "\n",
    "    print(key, distances)"
   ]
  },
  {
   "cell_type": "code",
   "execution_count": null,
   "metadata": {},
   "outputs": [],
   "source": []
  }
 ],
 "metadata": {
  "kernelspec": {
   "display_name": "Python 3.10.7 64-bit ('publicflow')",
   "language": "python",
   "name": "python3"
  },
  "language_info": {
   "codemirror_mode": {
    "name": "ipython",
    "version": 3
   },
   "file_extension": ".py",
   "mimetype": "text/x-python",
   "name": "python",
   "nbconvert_exporter": "python",
   "pygments_lexer": "ipython3",
   "version": "3.10.7"
  },
  "orig_nbformat": 4,
  "vscode": {
   "interpreter": {
    "hash": "05960339419a60c7889a40984f4102021b283c48ed5edd064a0bc44222080686"
   }
  }
 },
 "nbformat": 4,
 "nbformat_minor": 2
}
